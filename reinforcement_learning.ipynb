{
 "cells": [
  {
   "cell_type": "markdown",
   "metadata": {},
   "source": [
    "# Reinforcement Learning\n",
    "\n",
    "How does an agent interact with an environment to optimize an objective (goal)?\n",
    "\n",
    "RL problems are expressed in terms of a system consisting of an **agent** and an **environment**.  The environment is described in terms of **states** that the agent can be in.  The agent interacts with the environment by taking an **action** when in a particular state, which causes the environment to _probably_ transition to a new state along with a **reward** (or **penalty**).  This cycle is performed in a single time step and repeats until the problem is solved (i.e., the object is achieved).\n",
    "\n",
    "$$\n",
    "\\frac{arg 1}{arg 2} \\\\\n",
    "x^2\\\\\n",
    "e^{i\\pi}\\\\\n",
    "A_i\\\\\n",
    "B_{ij}\\\\\n",
    "\\sqrt[n]{arg}\t\n",
    "$$"
   ]
  }
 ],
 "metadata": {
  "interpreter": {
   "hash": "e11eeae0bf1ca8b5116773204df049ed8f12fedc203f8f32bd43a42e8fdf59f0"
  },
  "kernelspec": {
   "display_name": "Python 3.10.0 64-bit ('mdp-kq-KjxFp': pipenv)",
   "language": "python",
   "name": "python3"
  },
  "language_info": {
   "codemirror_mode": {
    "name": "ipython",
    "version": 3
   },
   "file_extension": ".py",
   "mimetype": "text/x-python",
   "name": "python",
   "nbconvert_exporter": "python",
   "pygments_lexer": "ipython3",
   "version": "3.10.0"
  },
  "orig_nbformat": 4
 },
 "nbformat": 4,
 "nbformat_minor": 2
}
